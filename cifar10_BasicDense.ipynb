{
 "cells": [
  {
   "cell_type": "code",
   "id": "initial_id",
   "metadata": {
    "collapsed": true,
    "ExecuteTime": {
     "end_time": "2025-08-10T19:02:15.395557Z",
     "start_time": "2025-08-10T19:02:13.991773Z"
    },
    "id": "initial_id"
   },
   "source": [
    "import tensorflow as tf\n",
    "import matplotlib.pyplot as plt"
   ],
   "outputs": [],
   "execution_count": 1
  },
  {
   "metadata": {
    "colab": {
     "base_uri": "https://localhost:8080/"
    },
    "id": "aaa2506d9f3c4ffb",
    "outputId": "293558d1-c790-4882-d572-96d02f132611"
   },
   "cell_type": "code",
   "outputs": [
    {
     "output_type": "stream",
     "name": "stdout",
     "text": [
      "Downloading data from https://www.cs.toronto.edu/~kriz/cifar-10-python.tar.gz\n",
      "\u001B[1m170498071/170498071\u001B[0m \u001B[32m━━━━━━━━━━━━━━━━━━━━\u001B[0m\u001B[37m\u001B[0m \u001B[1m5s\u001B[0m 0us/step\n"
     ]
    }
   ],
   "execution_count": 2,
   "source": [
    "(x_train, y_train), (x_test, y_test ) = tf.keras.datasets.cifar10.load_data()"
   ],
   "id": "aaa2506d9f3c4ffb"
  },
  {
   "metadata": {
    "id": "e503e0049f1c8023"
   },
   "cell_type": "code",
   "outputs": [],
   "execution_count": 3,
   "source": [
    "x_train=x_train/255.0\n",
    "x_test=x_test/255.0"
   ],
   "id": "e503e0049f1c8023"
  },
  {
   "metadata": {
    "id": "d80df63d8ba156b3"
   },
   "cell_type": "code",
   "outputs": [],
   "execution_count": 5,
   "source": [
    "y_train = y_train.flatten()\n",
    "y_test = y_test.flatten()"
   ],
   "id": "d80df63d8ba156b3"
  },
  {
   "metadata": {
    "colab": {
     "base_uri": "https://localhost:8080/"
    },
    "id": "596f1e82a754f35c",
    "outputId": "b5309cb8-2b20-4b66-95bd-971bf58a3a55"
   },
   "cell_type": "code",
   "outputs": [
    {
     "output_type": "stream",
     "name": "stderr",
     "text": [
      "/usr/local/lib/python3.11/dist-packages/keras/src/layers/reshaping/flatten.py:37: UserWarning: Do not pass an `input_shape`/`input_dim` argument to a layer. When using Sequential models, prefer using an `Input(shape)` object as the first layer in the model instead.\n",
      "  super().__init__(**kwargs)\n"
     ]
    }
   ],
   "execution_count": 22,
   "source": [
    "model = tf.keras.Sequential([\n",
    "    tf.keras.layers.Flatten(input_shape=(32, 32, 3)),\n",
    "    tf.keras.layers.Rescaling(1./255),\n",
    "    tf.keras.layers.Dense(524, activation='relu'),\n",
    "    tf.keras.layers.Dense(128, activation='relu'),\n",
    "    tf.keras.layers.Dense(64, activation='relu'),\n",
    "    tf.keras.layers.Dense(32, activation='relu'),\n",
    "    tf.keras.layers.Dense(16, activation='relu'),\n",
    "    tf.keras.layers.Dense(10, activation='softmax')  ])\n"
   ],
   "id": "596f1e82a754f35c"
  },
  {
   "cell_type": "code",
   "source": [
    "model.summary()"
   ],
   "metadata": {
    "colab": {
     "base_uri": "https://localhost:8080/",
     "height": 408
    },
    "id": "7dU5yi14_HRV",
    "outputId": "2d54db32-2eef-45c3-d41c-58ec26279c0c"
   },
   "id": "7dU5yi14_HRV",
   "execution_count": 23,
   "outputs": [
    {
     "output_type": "display_data",
     "data": {
      "text/plain": [
       "\u001B[1mModel: \"sequential_3\"\u001B[0m\n"
      ],
      "text/html": [
       "<pre style=\"white-space:pre;overflow-x:auto;line-height:normal;font-family:Menlo,'DejaVu Sans Mono',consolas,'Courier New',monospace\"><span style=\"font-weight: bold\">Model: \"sequential_3\"</span>\n",
       "</pre>\n"
      ]
     },
     "metadata": {}
    },
    {
     "output_type": "display_data",
     "data": {
      "text/plain": [
       "┏━━━━━━━━━━━━━━━━━━━━━━━━━━━━━━━━━┳━━━━━━━━━━━━━━━━━━━━━━━━┳━━━━━━━━━━━━━━━┓\n",
       "┃\u001B[1m \u001B[0m\u001B[1mLayer (type)                   \u001B[0m\u001B[1m \u001B[0m┃\u001B[1m \u001B[0m\u001B[1mOutput Shape          \u001B[0m\u001B[1m \u001B[0m┃\u001B[1m \u001B[0m\u001B[1m      Param #\u001B[0m\u001B[1m \u001B[0m┃\n",
       "┡━━━━━━━━━━━━━━━━━━━━━━━━━━━━━━━━━╇━━━━━━━━━━━━━━━━━━━━━━━━╇━━━━━━━━━━━━━━━┩\n",
       "│ flatten_3 (\u001B[38;5;33mFlatten\u001B[0m)             │ (\u001B[38;5;45mNone\u001B[0m, \u001B[38;5;34m3072\u001B[0m)           │             \u001B[38;5;34m0\u001B[0m │\n",
       "├─────────────────────────────────┼────────────────────────┼───────────────┤\n",
       "│ rescaling_3 (\u001B[38;5;33mRescaling\u001B[0m)         │ (\u001B[38;5;45mNone\u001B[0m, \u001B[38;5;34m3072\u001B[0m)           │             \u001B[38;5;34m0\u001B[0m │\n",
       "├─────────────────────────────────┼────────────────────────┼───────────────┤\n",
       "│ dense_12 (\u001B[38;5;33mDense\u001B[0m)                │ (\u001B[38;5;45mNone\u001B[0m, \u001B[38;5;34m524\u001B[0m)            │     \u001B[38;5;34m1,610,252\u001B[0m │\n",
       "├─────────────────────────────────┼────────────────────────┼───────────────┤\n",
       "│ dense_13 (\u001B[38;5;33mDense\u001B[0m)                │ (\u001B[38;5;45mNone\u001B[0m, \u001B[38;5;34m128\u001B[0m)            │        \u001B[38;5;34m67,200\u001B[0m │\n",
       "├─────────────────────────────────┼────────────────────────┼───────────────┤\n",
       "│ dense_14 (\u001B[38;5;33mDense\u001B[0m)                │ (\u001B[38;5;45mNone\u001B[0m, \u001B[38;5;34m64\u001B[0m)             │         \u001B[38;5;34m8,256\u001B[0m │\n",
       "├─────────────────────────────────┼────────────────────────┼───────────────┤\n",
       "│ dense_15 (\u001B[38;5;33mDense\u001B[0m)                │ (\u001B[38;5;45mNone\u001B[0m, \u001B[38;5;34m32\u001B[0m)             │         \u001B[38;5;34m2,080\u001B[0m │\n",
       "├─────────────────────────────────┼────────────────────────┼───────────────┤\n",
       "│ dense_16 (\u001B[38;5;33mDense\u001B[0m)                │ (\u001B[38;5;45mNone\u001B[0m, \u001B[38;5;34m16\u001B[0m)             │           \u001B[38;5;34m528\u001B[0m │\n",
       "├─────────────────────────────────┼────────────────────────┼───────────────┤\n",
       "│ dense_17 (\u001B[38;5;33mDense\u001B[0m)                │ (\u001B[38;5;45mNone\u001B[0m, \u001B[38;5;34m10\u001B[0m)             │           \u001B[38;5;34m170\u001B[0m │\n",
       "└─────────────────────────────────┴────────────────────────┴───────────────┘\n"
      ],
      "text/html": [
       "<pre style=\"white-space:pre;overflow-x:auto;line-height:normal;font-family:Menlo,'DejaVu Sans Mono',consolas,'Courier New',monospace\">┏━━━━━━━━━━━━━━━━━━━━━━━━━━━━━━━━━┳━━━━━━━━━━━━━━━━━━━━━━━━┳━━━━━━━━━━━━━━━┓\n",
       "┃<span style=\"font-weight: bold\"> Layer (type)                    </span>┃<span style=\"font-weight: bold\"> Output Shape           </span>┃<span style=\"font-weight: bold\">       Param # </span>┃\n",
       "┡━━━━━━━━━━━━━━━━━━━━━━━━━━━━━━━━━╇━━━━━━━━━━━━━━━━━━━━━━━━╇━━━━━━━━━━━━━━━┩\n",
       "│ flatten_3 (<span style=\"color: #0087ff; text-decoration-color: #0087ff\">Flatten</span>)             │ (<span style=\"color: #00d7ff; text-decoration-color: #00d7ff\">None</span>, <span style=\"color: #00af00; text-decoration-color: #00af00\">3072</span>)           │             <span style=\"color: #00af00; text-decoration-color: #00af00\">0</span> │\n",
       "├─────────────────────────────────┼────────────────────────┼───────────────┤\n",
       "│ rescaling_3 (<span style=\"color: #0087ff; text-decoration-color: #0087ff\">Rescaling</span>)         │ (<span style=\"color: #00d7ff; text-decoration-color: #00d7ff\">None</span>, <span style=\"color: #00af00; text-decoration-color: #00af00\">3072</span>)           │             <span style=\"color: #00af00; text-decoration-color: #00af00\">0</span> │\n",
       "├─────────────────────────────────┼────────────────────────┼───────────────┤\n",
       "│ dense_12 (<span style=\"color: #0087ff; text-decoration-color: #0087ff\">Dense</span>)                │ (<span style=\"color: #00d7ff; text-decoration-color: #00d7ff\">None</span>, <span style=\"color: #00af00; text-decoration-color: #00af00\">524</span>)            │     <span style=\"color: #00af00; text-decoration-color: #00af00\">1,610,252</span> │\n",
       "├─────────────────────────────────┼────────────────────────┼───────────────┤\n",
       "│ dense_13 (<span style=\"color: #0087ff; text-decoration-color: #0087ff\">Dense</span>)                │ (<span style=\"color: #00d7ff; text-decoration-color: #00d7ff\">None</span>, <span style=\"color: #00af00; text-decoration-color: #00af00\">128</span>)            │        <span style=\"color: #00af00; text-decoration-color: #00af00\">67,200</span> │\n",
       "├─────────────────────────────────┼────────────────────────┼───────────────┤\n",
       "│ dense_14 (<span style=\"color: #0087ff; text-decoration-color: #0087ff\">Dense</span>)                │ (<span style=\"color: #00d7ff; text-decoration-color: #00d7ff\">None</span>, <span style=\"color: #00af00; text-decoration-color: #00af00\">64</span>)             │         <span style=\"color: #00af00; text-decoration-color: #00af00\">8,256</span> │\n",
       "├─────────────────────────────────┼────────────────────────┼───────────────┤\n",
       "│ dense_15 (<span style=\"color: #0087ff; text-decoration-color: #0087ff\">Dense</span>)                │ (<span style=\"color: #00d7ff; text-decoration-color: #00d7ff\">None</span>, <span style=\"color: #00af00; text-decoration-color: #00af00\">32</span>)             │         <span style=\"color: #00af00; text-decoration-color: #00af00\">2,080</span> │\n",
       "├─────────────────────────────────┼────────────────────────┼───────────────┤\n",
       "│ dense_16 (<span style=\"color: #0087ff; text-decoration-color: #0087ff\">Dense</span>)                │ (<span style=\"color: #00d7ff; text-decoration-color: #00d7ff\">None</span>, <span style=\"color: #00af00; text-decoration-color: #00af00\">16</span>)             │           <span style=\"color: #00af00; text-decoration-color: #00af00\">528</span> │\n",
       "├─────────────────────────────────┼────────────────────────┼───────────────┤\n",
       "│ dense_17 (<span style=\"color: #0087ff; text-decoration-color: #0087ff\">Dense</span>)                │ (<span style=\"color: #00d7ff; text-decoration-color: #00d7ff\">None</span>, <span style=\"color: #00af00; text-decoration-color: #00af00\">10</span>)             │           <span style=\"color: #00af00; text-decoration-color: #00af00\">170</span> │\n",
       "└─────────────────────────────────┴────────────────────────┴───────────────┘\n",
       "</pre>\n"
      ]
     },
     "metadata": {}
    },
    {
     "output_type": "display_data",
     "data": {
      "text/plain": [
       "\u001B[1m Total params: \u001B[0m\u001B[38;5;34m1,688,486\u001B[0m (6.44 MB)\n"
      ],
      "text/html": [
       "<pre style=\"white-space:pre;overflow-x:auto;line-height:normal;font-family:Menlo,'DejaVu Sans Mono',consolas,'Courier New',monospace\"><span style=\"font-weight: bold\"> Total params: </span><span style=\"color: #00af00; text-decoration-color: #00af00\">1,688,486</span> (6.44 MB)\n",
       "</pre>\n"
      ]
     },
     "metadata": {}
    },
    {
     "output_type": "display_data",
     "data": {
      "text/plain": [
       "\u001B[1m Trainable params: \u001B[0m\u001B[38;5;34m1,688,486\u001B[0m (6.44 MB)\n"
      ],
      "text/html": [
       "<pre style=\"white-space:pre;overflow-x:auto;line-height:normal;font-family:Menlo,'DejaVu Sans Mono',consolas,'Courier New',monospace\"><span style=\"font-weight: bold\"> Trainable params: </span><span style=\"color: #00af00; text-decoration-color: #00af00\">1,688,486</span> (6.44 MB)\n",
       "</pre>\n"
      ]
     },
     "metadata": {}
    },
    {
     "output_type": "display_data",
     "data": {
      "text/plain": [
       "\u001B[1m Non-trainable params: \u001B[0m\u001B[38;5;34m0\u001B[0m (0.00 B)\n"
      ],
      "text/html": [
       "<pre style=\"white-space:pre;overflow-x:auto;line-height:normal;font-family:Menlo,'DejaVu Sans Mono',consolas,'Courier New',monospace\"><span style=\"font-weight: bold\"> Non-trainable params: </span><span style=\"color: #00af00; text-decoration-color: #00af00\">0</span> (0.00 B)\n",
       "</pre>\n"
      ]
     },
     "metadata": {}
    }
   ]
  },
  {
   "metadata": {
    "id": "e5c8a225a7481a90"
   },
   "cell_type": "code",
   "outputs": [],
   "execution_count": 24,
   "source": [
    "# --- Compile ---\n",
    "model.compile(optimizer='adam',\n",
    "              loss='sparse_categorical_crossentropy',\n",
    "              metrics=['accuracy'])"
   ],
   "id": "e5c8a225a7481a90"
  },
  {
   "metadata": {
    "colab": {
     "base_uri": "https://localhost:8080/"
    },
    "id": "df1a5d271e0dbefa",
    "outputId": "ae18d908-249b-4f7f-8f3b-4bfebae21989"
   },
   "cell_type": "code",
   "outputs": [
    {
     "output_type": "stream",
     "name": "stdout",
     "text": [
      "Epoch 1/100\n",
      "667/667 - 7s - 11ms/step - accuracy: 0.2195 - loss: 2.0606 - val_accuracy: 0.2615 - val_loss: 1.9883\n",
      "Epoch 2/100\n",
      "667/667 - 6s - 10ms/step - accuracy: 0.2781 - loss: 1.9199 - val_accuracy: 0.2953 - val_loss: 1.9003\n",
      "Epoch 3/100\n",
      "667/667 - 3s - 4ms/step - accuracy: 0.3147 - loss: 1.8478 - val_accuracy: 0.3323 - val_loss: 1.8184\n",
      "Epoch 4/100\n",
      "667/667 - 5s - 8ms/step - accuracy: 0.3433 - loss: 1.7829 - val_accuracy: 0.3598 - val_loss: 1.7596\n",
      "Epoch 5/100\n",
      "667/667 - 2s - 3ms/step - accuracy: 0.3690 - loss: 1.7248 - val_accuracy: 0.3796 - val_loss: 1.7030\n",
      "Epoch 6/100\n",
      "667/667 - 2s - 3ms/step - accuracy: 0.3923 - loss: 1.6732 - val_accuracy: 0.3957 - val_loss: 1.6835\n",
      "Epoch 7/100\n",
      "667/667 - 3s - 5ms/step - accuracy: 0.4099 - loss: 1.6286 - val_accuracy: 0.4025 - val_loss: 1.6687\n",
      "Epoch 8/100\n",
      "667/667 - 5s - 7ms/step - accuracy: 0.4261 - loss: 1.5877 - val_accuracy: 0.4080 - val_loss: 1.6300\n",
      "Epoch 9/100\n",
      "667/667 - 3s - 4ms/step - accuracy: 0.4367 - loss: 1.5591 - val_accuracy: 0.4331 - val_loss: 1.5968\n",
      "Epoch 10/100\n",
      "667/667 - 2s - 4ms/step - accuracy: 0.4503 - loss: 1.5275 - val_accuracy: 0.4361 - val_loss: 1.5617\n",
      "Epoch 11/100\n",
      "667/667 - 3s - 4ms/step - accuracy: 0.4548 - loss: 1.5044 - val_accuracy: 0.4449 - val_loss: 1.5595\n",
      "Epoch 12/100\n",
      "667/667 - 2s - 4ms/step - accuracy: 0.4669 - loss: 1.4760 - val_accuracy: 0.4483 - val_loss: 1.5421\n",
      "Epoch 13/100\n",
      "667/667 - 2s - 3ms/step - accuracy: 0.4728 - loss: 1.4584 - val_accuracy: 0.4615 - val_loss: 1.5156\n",
      "Epoch 14/100\n",
      "667/667 - 3s - 4ms/step - accuracy: 0.4826 - loss: 1.4359 - val_accuracy: 0.4614 - val_loss: 1.4987\n",
      "Epoch 15/100\n",
      "667/667 - 2s - 4ms/step - accuracy: 0.4893 - loss: 1.4143 - val_accuracy: 0.4701 - val_loss: 1.4921\n",
      "Epoch 16/100\n",
      "667/667 - 3s - 4ms/step - accuracy: 0.4983 - loss: 1.3924 - val_accuracy: 0.4647 - val_loss: 1.5103\n",
      "Epoch 17/100\n",
      "667/667 - 2s - 3ms/step - accuracy: 0.5059 - loss: 1.3707 - val_accuracy: 0.4820 - val_loss: 1.4629\n",
      "Epoch 18/100\n",
      "667/667 - 2s - 3ms/step - accuracy: 0.5111 - loss: 1.3534 - val_accuracy: 0.4902 - val_loss: 1.4427\n",
      "Epoch 19/100\n",
      "667/667 - 2s - 3ms/step - accuracy: 0.5177 - loss: 1.3391 - val_accuracy: 0.4596 - val_loss: 1.5194\n",
      "Epoch 20/100\n",
      "667/667 - 2s - 3ms/step - accuracy: 0.5261 - loss: 1.3186 - val_accuracy: 0.4789 - val_loss: 1.4837\n",
      "Epoch 21/100\n",
      "667/667 - 3s - 5ms/step - accuracy: 0.5343 - loss: 1.2992 - val_accuracy: 0.5013 - val_loss: 1.4226\n",
      "Epoch 22/100\n",
      "667/667 - 5s - 7ms/step - accuracy: 0.5414 - loss: 1.2809 - val_accuracy: 0.5027 - val_loss: 1.4380\n",
      "Epoch 23/100\n",
      "667/667 - 3s - 4ms/step - accuracy: 0.5451 - loss: 1.2645 - val_accuracy: 0.4919 - val_loss: 1.4512\n",
      "Epoch 24/100\n",
      "667/667 - 2s - 4ms/step - accuracy: 0.5505 - loss: 1.2487 - val_accuracy: 0.5046 - val_loss: 1.4337\n",
      "Epoch 25/100\n",
      "667/667 - 3s - 4ms/step - accuracy: 0.5555 - loss: 1.2333 - val_accuracy: 0.4802 - val_loss: 1.4701\n",
      "Epoch 26/100\n",
      "667/667 - 5s - 7ms/step - accuracy: 0.5619 - loss: 1.2170 - val_accuracy: 0.5006 - val_loss: 1.4295\n",
      "Epoch 27/100\n",
      "667/667 - 2s - 3ms/step - accuracy: 0.5700 - loss: 1.1994 - val_accuracy: 0.5037 - val_loss: 1.4241\n",
      "Epoch 28/100\n",
      "667/667 - 3s - 5ms/step - accuracy: 0.5755 - loss: 1.1823 - val_accuracy: 0.5151 - val_loss: 1.3902\n",
      "Epoch 29/100\n",
      "667/667 - 5s - 7ms/step - accuracy: 0.5792 - loss: 1.1746 - val_accuracy: 0.5095 - val_loss: 1.4098\n",
      "Epoch 30/100\n",
      "667/667 - 2s - 4ms/step - accuracy: 0.5875 - loss: 1.1532 - val_accuracy: 0.5145 - val_loss: 1.4033\n",
      "Epoch 31/100\n",
      "667/667 - 2s - 4ms/step - accuracy: 0.5898 - loss: 1.1416 - val_accuracy: 0.5111 - val_loss: 1.4181\n",
      "Epoch 32/100\n",
      "667/667 - 3s - 4ms/step - accuracy: 0.5967 - loss: 1.1241 - val_accuracy: 0.4962 - val_loss: 1.4932\n",
      "Epoch 33/100\n",
      "667/667 - 2s - 3ms/step - accuracy: 0.5969 - loss: 1.1201 - val_accuracy: 0.5083 - val_loss: 1.4159\n",
      "Epoch 34/100\n",
      "667/667 - 2s - 4ms/step - accuracy: 0.6074 - loss: 1.0969 - val_accuracy: 0.5168 - val_loss: 1.4141\n",
      "Epoch 35/100\n",
      "667/667 - 2s - 3ms/step - accuracy: 0.6087 - loss: 1.0897 - val_accuracy: 0.5166 - val_loss: 1.4212\n",
      "Epoch 36/100\n",
      "667/667 - 3s - 4ms/step - accuracy: 0.6113 - loss: 1.0755 - val_accuracy: 0.5154 - val_loss: 1.4336\n",
      "Epoch 37/100\n",
      "667/667 - 3s - 4ms/step - accuracy: 0.6233 - loss: 1.0533 - val_accuracy: 0.5116 - val_loss: 1.4470\n",
      "Epoch 38/100\n",
      "667/667 - 2s - 3ms/step - accuracy: 0.6234 - loss: 1.0423 - val_accuracy: 0.5083 - val_loss: 1.4628\n",
      "Epoch 39/100\n",
      "667/667 - 3s - 4ms/step - accuracy: 0.6266 - loss: 1.0367 - val_accuracy: 0.5125 - val_loss: 1.4219\n",
      "Epoch 40/100\n",
      "667/667 - 2s - 4ms/step - accuracy: 0.6306 - loss: 1.0206 - val_accuracy: 0.5175 - val_loss: 1.4323\n",
      "Epoch 41/100\n",
      "667/667 - 2s - 4ms/step - accuracy: 0.6393 - loss: 1.0060 - val_accuracy: 0.5167 - val_loss: 1.4336\n",
      "Epoch 42/100\n",
      "667/667 - 3s - 4ms/step - accuracy: 0.6438 - loss: 0.9918 - val_accuracy: 0.5200 - val_loss: 1.4356\n",
      "Epoch 43/100\n",
      "667/667 - 2s - 3ms/step - accuracy: 0.6522 - loss: 0.9711 - val_accuracy: 0.5120 - val_loss: 1.4878\n",
      "Epoch 44/100\n",
      "667/667 - 2s - 3ms/step - accuracy: 0.6495 - loss: 0.9739 - val_accuracy: 0.5234 - val_loss: 1.4338\n",
      "Epoch 45/100\n",
      "667/667 - 2s - 4ms/step - accuracy: 0.6566 - loss: 0.9542 - val_accuracy: 0.5180 - val_loss: 1.4486\n",
      "Epoch 46/100\n",
      "667/667 - 2s - 4ms/step - accuracy: 0.6587 - loss: 0.9463 - val_accuracy: 0.5074 - val_loss: 1.5015\n",
      "Epoch 47/100\n",
      "667/667 - 3s - 5ms/step - accuracy: 0.6642 - loss: 0.9342 - val_accuracy: 0.5072 - val_loss: 1.5249\n",
      "Epoch 48/100\n",
      "667/667 - 4s - 6ms/step - accuracy: 0.6686 - loss: 0.9187 - val_accuracy: 0.5165 - val_loss: 1.5232\n",
      "Epoch 49/100\n",
      "667/667 - 3s - 4ms/step - accuracy: 0.6744 - loss: 0.9042 - val_accuracy: 0.5114 - val_loss: 1.5138\n",
      "Epoch 50/100\n",
      "667/667 - 2s - 4ms/step - accuracy: 0.6769 - loss: 0.8992 - val_accuracy: 0.5173 - val_loss: 1.4944\n",
      "Epoch 51/100\n",
      "667/667 - 3s - 4ms/step - accuracy: 0.6806 - loss: 0.8857 - val_accuracy: 0.5151 - val_loss: 1.5311\n",
      "Epoch 52/100\n",
      "667/667 - 5s - 7ms/step - accuracy: 0.6843 - loss: 0.8746 - val_accuracy: 0.5088 - val_loss: 1.5247\n",
      "Epoch 53/100\n",
      "667/667 - 2s - 4ms/step - accuracy: 0.6908 - loss: 0.8556 - val_accuracy: 0.5206 - val_loss: 1.5220\n",
      "Epoch 54/100\n",
      "667/667 - 3s - 4ms/step - accuracy: 0.6924 - loss: 0.8569 - val_accuracy: 0.5129 - val_loss: 1.5948\n",
      "Epoch 55/100\n",
      "667/667 - 3s - 4ms/step - accuracy: 0.6954 - loss: 0.8401 - val_accuracy: 0.5208 - val_loss: 1.5929\n",
      "Epoch 56/100\n",
      "667/667 - 2s - 3ms/step - accuracy: 0.7033 - loss: 0.8265 - val_accuracy: 0.5193 - val_loss: 1.5577\n",
      "Epoch 57/100\n",
      "667/667 - 2s - 3ms/step - accuracy: 0.7041 - loss: 0.8242 - val_accuracy: 0.5073 - val_loss: 1.6338\n",
      "Epoch 58/100\n",
      "667/667 - 2s - 3ms/step - accuracy: 0.7092 - loss: 0.8056 - val_accuracy: 0.5163 - val_loss: 1.6025\n",
      "Epoch 59/100\n",
      "667/667 - 3s - 5ms/step - accuracy: 0.7119 - loss: 0.7950 - val_accuracy: 0.5135 - val_loss: 1.6465\n",
      "Epoch 60/100\n",
      "667/667 - 2s - 3ms/step - accuracy: 0.7133 - loss: 0.7943 - val_accuracy: 0.5148 - val_loss: 1.6031\n",
      "Epoch 61/100\n",
      "667/667 - 2s - 3ms/step - accuracy: 0.7178 - loss: 0.7789 - val_accuracy: 0.5089 - val_loss: 1.6459\n",
      "Epoch 62/100\n",
      "667/667 - 3s - 4ms/step - accuracy: 0.7248 - loss: 0.7648 - val_accuracy: 0.5189 - val_loss: 1.6470\n",
      "Epoch 63/100\n",
      "667/667 - 3s - 4ms/step - accuracy: 0.7235 - loss: 0.7689 - val_accuracy: 0.4956 - val_loss: 1.7370\n",
      "Epoch 64/100\n",
      "667/667 - 3s - 4ms/step - accuracy: 0.7322 - loss: 0.7441 - val_accuracy: 0.5157 - val_loss: 1.6480\n",
      "Epoch 65/100\n",
      "667/667 - 2s - 4ms/step - accuracy: 0.7340 - loss: 0.7398 - val_accuracy: 0.5116 - val_loss: 1.7047\n",
      "Epoch 66/100\n",
      "667/667 - 2s - 3ms/step - accuracy: 0.7359 - loss: 0.7275 - val_accuracy: 0.5121 - val_loss: 1.7183\n",
      "Epoch 67/100\n",
      "667/667 - 2s - 4ms/step - accuracy: 0.7407 - loss: 0.7193 - val_accuracy: 0.5099 - val_loss: 1.7063\n",
      "Epoch 68/100\n",
      "667/667 - 2s - 4ms/step - accuracy: 0.7486 - loss: 0.7046 - val_accuracy: 0.5057 - val_loss: 1.7624\n",
      "Epoch 69/100\n",
      "667/667 - 3s - 5ms/step - accuracy: 0.7457 - loss: 0.7023 - val_accuracy: 0.5061 - val_loss: 1.8074\n",
      "Epoch 70/100\n",
      "667/667 - 2s - 3ms/step - accuracy: 0.7477 - loss: 0.6947 - val_accuracy: 0.5156 - val_loss: 1.7664\n",
      "Epoch 71/100\n",
      "667/667 - 2s - 4ms/step - accuracy: 0.7519 - loss: 0.6861 - val_accuracy: 0.5061 - val_loss: 1.7862\n",
      "Epoch 72/100\n",
      "667/667 - 2s - 4ms/step - accuracy: 0.7574 - loss: 0.6713 - val_accuracy: 0.5151 - val_loss: 1.8120\n",
      "Epoch 73/100\n",
      "667/667 - 2s - 3ms/step - accuracy: 0.7567 - loss: 0.6732 - val_accuracy: 0.5094 - val_loss: 1.8436\n",
      "Epoch 74/100\n",
      "667/667 - 3s - 4ms/step - accuracy: 0.7601 - loss: 0.6591 - val_accuracy: 0.5111 - val_loss: 1.8128\n",
      "Epoch 75/100\n",
      "667/667 - 4s - 6ms/step - accuracy: 0.7668 - loss: 0.6428 - val_accuracy: 0.5111 - val_loss: 1.8549\n",
      "Epoch 76/100\n",
      "667/667 - 2s - 3ms/step - accuracy: 0.7668 - loss: 0.6460 - val_accuracy: 0.5129 - val_loss: 1.8094\n",
      "Epoch 77/100\n",
      "667/667 - 2s - 4ms/step - accuracy: 0.7710 - loss: 0.6324 - val_accuracy: 0.5076 - val_loss: 1.9244\n",
      "Epoch 78/100\n",
      "667/667 - 3s - 5ms/step - accuracy: 0.7690 - loss: 0.6347 - val_accuracy: 0.5097 - val_loss: 1.8793\n",
      "Epoch 79/100\n",
      "667/667 - 4s - 6ms/step - accuracy: 0.7783 - loss: 0.6182 - val_accuracy: 0.5098 - val_loss: 1.9714\n",
      "Epoch 80/100\n",
      "667/667 - 2s - 3ms/step - accuracy: 0.7768 - loss: 0.6140 - val_accuracy: 0.5050 - val_loss: 1.8865\n",
      "Epoch 81/100\n",
      "667/667 - 3s - 4ms/step - accuracy: 0.7792 - loss: 0.6078 - val_accuracy: 0.5052 - val_loss: 1.9183\n",
      "Epoch 82/100\n",
      "667/667 - 3s - 4ms/step - accuracy: 0.7813 - loss: 0.6065 - val_accuracy: 0.5067 - val_loss: 2.0137\n",
      "Epoch 83/100\n",
      "667/667 - 5s - 7ms/step - accuracy: 0.7847 - loss: 0.5920 - val_accuracy: 0.5024 - val_loss: 1.9998\n",
      "Epoch 84/100\n",
      "667/667 - 3s - 4ms/step - accuracy: 0.7894 - loss: 0.5862 - val_accuracy: 0.5003 - val_loss: 2.0235\n",
      "Epoch 85/100\n",
      "667/667 - 2s - 4ms/step - accuracy: 0.7888 - loss: 0.5844 - val_accuracy: 0.5008 - val_loss: 1.9900\n",
      "Epoch 86/100\n",
      "667/667 - 3s - 4ms/step - accuracy: 0.7977 - loss: 0.5589 - val_accuracy: 0.4978 - val_loss: 2.1264\n",
      "Epoch 87/100\n",
      "667/667 - 5s - 7ms/step - accuracy: 0.7969 - loss: 0.5613 - val_accuracy: 0.5093 - val_loss: 2.0445\n",
      "Epoch 88/100\n",
      "667/667 - 3s - 4ms/step - accuracy: 0.7959 - loss: 0.5637 - val_accuracy: 0.5006 - val_loss: 2.0763\n",
      "Epoch 89/100\n",
      "667/667 - 2s - 4ms/step - accuracy: 0.8025 - loss: 0.5463 - val_accuracy: 0.5073 - val_loss: 2.1390\n",
      "Epoch 90/100\n",
      "667/667 - 3s - 4ms/step - accuracy: 0.7983 - loss: 0.5531 - val_accuracy: 0.4961 - val_loss: 2.1601\n",
      "Epoch 91/100\n",
      "667/667 - 2s - 4ms/step - accuracy: 0.8051 - loss: 0.5347 - val_accuracy: 0.4993 - val_loss: 2.1641\n",
      "Epoch 92/100\n",
      "667/667 - 3s - 4ms/step - accuracy: 0.8067 - loss: 0.5304 - val_accuracy: 0.4965 - val_loss: 2.1892\n",
      "Epoch 93/100\n",
      "667/667 - 3s - 4ms/step - accuracy: 0.8073 - loss: 0.5303 - val_accuracy: 0.4953 - val_loss: 2.2313\n",
      "Epoch 94/100\n",
      "667/667 - 3s - 4ms/step - accuracy: 0.8138 - loss: 0.5136 - val_accuracy: 0.5094 - val_loss: 2.1819\n",
      "Epoch 95/100\n",
      "667/667 - 5s - 7ms/step - accuracy: 0.8115 - loss: 0.5162 - val_accuracy: 0.5091 - val_loss: 2.1602\n",
      "Epoch 96/100\n",
      "667/667 - 2s - 3ms/step - accuracy: 0.8194 - loss: 0.5032 - val_accuracy: 0.4962 - val_loss: 2.1708\n",
      "Epoch 97/100\n",
      "667/667 - 2s - 3ms/step - accuracy: 0.8184 - loss: 0.4992 - val_accuracy: 0.4985 - val_loss: 2.2124\n",
      "Epoch 98/100\n",
      "667/667 - 3s - 5ms/step - accuracy: 0.8211 - loss: 0.4907 - val_accuracy: 0.5049 - val_loss: 2.2551\n",
      "Epoch 99/100\n",
      "667/667 - 2s - 4ms/step - accuracy: 0.8188 - loss: 0.4971 - val_accuracy: 0.4982 - val_loss: 2.2753\n",
      "Epoch 100/100\n",
      "667/667 - 2s - 3ms/step - accuracy: 0.8263 - loss: 0.4780 - val_accuracy: 0.4904 - val_loss: 2.3172\n"
     ]
    }
   ],
   "execution_count": 25,
   "source": [
    "# --- Train ---\n",
    "history = model.fit(x_train, y_train,\n",
    "                    validation_split=0.2,\n",
    "                    epochs=100,\n",
    "                    batch_size=60,\n",
    "                    verbose=2)\n"
   ],
   "id": "df1a5d271e0dbefa"
  },
  {
   "cell_type": "code",
   "source": [
    "# --- Evaluate ---\n",
    "test_loss, test_acc = model.evaluate(x_test, y_test, verbose=0)\n",
    "print(f\"Test Accuracy: {test_acc:.4f}\")\n"
   ],
   "metadata": {
    "colab": {
     "base_uri": "https://localhost:8080/"
    },
    "id": "V4MJlL-qHPSj",
    "outputId": "9ac7e650-591e-43cc-8580-9e48b75429c5"
   },
   "id": "V4MJlL-qHPSj",
   "execution_count": 27,
   "outputs": [
    {
     "output_type": "stream",
     "name": "stdout",
     "text": [
      "Test Accuracy: 0.4918\n"
     ]
    }
   ]
  },
  {
   "cell_type": "code",
   "source": [
    "# --- Best Accuracy ---\n",
    "best_val_acc = max(history.history['val_accuracy'])\n",
    "best_train_acc = max(history.history['accuracy'])\n",
    "print(f\"Best Train Accuracy: {best_train_acc:.4f}\")\n",
    "print(f\"Best Validation Accuracy: {best_val_acc:.4f}\")"
   ],
   "metadata": {
    "colab": {
     "base_uri": "https://localhost:8080/"
    },
    "id": "j1l8WwrPHZMN",
    "outputId": "e5c2e66d-27cf-4f2b-dd9f-23311c85d7d6"
   },
   "id": "j1l8WwrPHZMN",
   "execution_count": 28,
   "outputs": [
    {
     "output_type": "stream",
     "name": "stdout",
     "text": [
      "Best Train Accuracy: 0.8263\n",
      "Best Validation Accuracy: 0.5234\n"
     ]
    }
   ]
  },
  {
   "cell_type": "code",
   "source": [
    "import numpy as np\n",
    "import matplotlib.pyplot as plt\n",
    "\n",
    "# --- Evaluate on Test Set ---\n",
    "test_loss, test_acc = model.evaluate(x_test, y_test, verbose=0)\n",
    "print(f\"Test Accuracy: {test_acc:.4f}\")\n",
    "print(f\"Test Loss: {test_loss:.4f}\")\n",
    "\n",
    "# --- Predict on Test Set ---\n",
    "predictions = model.predict(x_test)\n",
    "predicted_classes = np.argmax(predictions, axis=1)\n",
    "\n",
    "# --- Show 5 random test images with predicted labels ---\n",
    "class_names = ['airplane', 'automobile', 'bird', 'cat', 'deer',\n",
    "               'dog', 'frog', 'horse', 'ship', 'truck']\n",
    "\n",
    "plt.figure(figsize=(10, 5))\n",
    "for i, idx in enumerate(np.random.choice(len(x_test), 5, replace=False)):\n",
    "    plt.subplot(1, 5, i + 1)\n",
    "    plt.imshow(x_test[idx])\n",
    "    plt.title(f\"Pred: {class_names[predicted_classes[idx]]}\\nTrue: {class_names[y_test[idx]]}\")\n",
    "    plt.axis('off')\n",
    "plt.show()"
   ],
   "metadata": {
    "colab": {
     "base_uri": "https://localhost:8080/",
     "height": 265
    },
    "id": "B7mdWztEIClI",
    "outputId": "77a2822a-5bf8-4a81-aaff-47f68fd3822f"
   },
   "id": "B7mdWztEIClI",
   "execution_count": 29,
   "outputs": [
    {
     "output_type": "stream",
     "name": "stdout",
     "text": [
      "Test Accuracy: 0.4918\n",
      "Test Loss: 2.2738\n",
      "\u001B[1m313/313\u001B[0m \u001B[32m━━━━━━━━━━━━━━━━━━━━\u001B[0m\u001B[37m\u001B[0m \u001B[1m1s\u001B[0m 3ms/step\n"
     ]
    },
    {
     "output_type": "display_data",
     "data": {
      "text/plain": [
       "<Figure size 1000x500 with 5 Axes>"
      ],
      "image/png": "[encoded data removed]"
     },
     "metadata": {}
    }
   ]
  }
 ],
 "metadata": {
  "kernelspec": {
   "display_name": "Python 3",
   "name": "python3"
  },
  "language_info": {
   "codemirror_mode": {
    "name": "ipython",
    "version": 2
   },
   "file_extension": ".py",
   "mimetype": "text/x-python",
   "name": "python",
   "nbconvert_exporter": "python",
   "pygments_lexer": "ipython2",
   "version": "2.7.6"
  },
  "colab": {
   "provenance": [],
   "gpuType": "T4"
  },
  "accelerator": "GPU"
 },
 "nbformat": 4,
 "nbformat_minor": 5
}
