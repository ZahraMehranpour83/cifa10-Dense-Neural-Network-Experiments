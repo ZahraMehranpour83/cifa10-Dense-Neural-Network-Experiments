{
 "cells": [
  {
   "cell_type": "code",
   "id": "initial_id",
   "metadata": {
    "collapsed": true,
    "ExecuteTime": {
     "end_time": "2025-08-10T19:02:15.395557Z",
     "start_time": "2025-08-10T19:02:13.991773Z"
    },
    "id": "initial_id"
   },
   "source": [
    "import tensorflow as tf\n",
    "import matplotlib.pyplot as plt"
   ],
   "outputs": [],
   "execution_count": 1
  },
  {
   "metadata": {
    "colab": {
     "base_uri": "https://localhost:8080/"
    },
    "id": "aaa2506d9f3c4ffb",
    "outputId": "293558d1-c790-4882-d572-96d02f132611"
   },
   "cell_type": "code",
   "outputs": [
    {
     "output_type": "stream",
     "name": "stdout",
     "text": [
      "Downloading data from https://www.cs.toronto.edu/~kriz/cifar-10-python.tar.gz\n",
      "\u001B[1m170498071/170498071\u001B[0m \u001B[32m━━━━━━━━━━━━━━━━━━━━\u001B[0m\u001B[37m\u001B[0m \u001B[1m5s\u001B[0m 0us/step\n"
     ]
    }
   ],
   "execution_count": 2,
   "source": [
    "(x_train, y_train), (x_test, y_test ) = tf.keras.datasets.cifar10.load_data()"
   ],
   "id": "aaa2506d9f3c4ffb"
  },
  {
   "metadata": {
    "id": "e503e0049f1c8023"
   },
   "cell_type": "code",
   "outputs": [],
   "execution_count": 3,
   "source": [
    "x_train=x_train/255.0\n",
    "x_test=x_test/255.0"
   ],
   "id": "e503e0049f1c8023"
  },
  {
   "metadata": {
    "id": "d80df63d8ba156b3"
   },
   "cell_type": "code",
   "outputs": [],
   "execution_count": 5,
   "source": [
    "y_train = y_train.flatten()\n",
    "y_test = y_test.flatten()"
   ],
   "id": "d80df63d8ba156b3"
  },
  {
   "metadata": {
    "colab": {
     "base_uri": "https://localhost:8080/"
    },
    "id": "596f1e82a754f35c",
    "outputId": "8941a465-831f-438a-ccf9-5db598adc9a9"
   },
   "cell_type": "code",
   "outputs": [
    {
     "output_type": "stream",
     "name": "stderr",
     "text": [
      "/usr/local/lib/python3.11/dist-packages/keras/src/layers/reshaping/flatten.py:37: UserWarning: Do not pass an `input_shape`/`input_dim` argument to a layer. When using Sequential models, prefer using an `Input(shape)` object as the first layer in the model instead.\n",
      "  super().__init__(**kwargs)\n"
     ]
    }
   ],
   "execution_count": 35,
   "source": [
    "model = tf.keras.Sequential([\n",
    "    tf.keras.layers.Flatten(input_shape=(32, 32, 3)),\n",
    "    tf.keras.layers.Rescaling(1./255),\n",
    "    tf.keras.layers.Dense(1024, activation='relu'),\n",
    "    tf.keras.layers.Dense(512, activation='relu'),\n",
    "    tf.keras.layers.Dense(256, activation='relu'),\n",
    "    tf.keras.layers.Dense(10, activation='softmax')  ])\n"
   ],
   "id": "596f1e82a754f35c"
  },
  {
   "cell_type": "code",
   "source": [
    "model.summary()"
   ],
   "metadata": {
    "colab": {
     "base_uri": "https://localhost:8080/",
     "height": 340
    },
    "id": "7dU5yi14_HRV",
    "outputId": "9825340d-2484-4e60-8371-629bc66c5e73"
   },
   "id": "7dU5yi14_HRV",
   "execution_count": 36,
   "outputs": [
    {
     "output_type": "display_data",
     "data": {
      "text/plain": [
       "\u001B[1mModel: \"sequential_5\"\u001B[0m\n"
      ],
      "text/html": [
       "<pre style=\"white-space:pre;overflow-x:auto;line-height:normal;font-family:Menlo,'DejaVu Sans Mono',consolas,'Courier New',monospace\"><span style=\"font-weight: bold\">Model: \"sequential_5\"</span>\n",
       "</pre>\n"
      ]
     },
     "metadata": {}
    },
    {
     "output_type": "display_data",
     "data": {
      "text/plain": [
       "┏━━━━━━━━━━━━━━━━━━━━━━━━━━━━━━━━━┳━━━━━━━━━━━━━━━━━━━━━━━━┳━━━━━━━━━━━━━━━┓\n",
       "┃\u001B[1m \u001B[0m\u001B[1mLayer (type)                   \u001B[0m\u001B[1m \u001B[0m┃\u001B[1m \u001B[0m\u001B[1mOutput Shape          \u001B[0m\u001B[1m \u001B[0m┃\u001B[1m \u001B[0m\u001B[1m      Param #\u001B[0m\u001B[1m \u001B[0m┃\n",
       "┡━━━━━━━━━━━━━━━━━━━━━━━━━━━━━━━━━╇━━━━━━━━━━━━━━━━━━━━━━━━╇━━━━━━━━━━━━━━━┩\n",
       "│ flatten_5 (\u001B[38;5;33mFlatten\u001B[0m)             │ (\u001B[38;5;45mNone\u001B[0m, \u001B[38;5;34m3072\u001B[0m)           │             \u001B[38;5;34m0\u001B[0m │\n",
       "├─────────────────────────────────┼────────────────────────┼───────────────┤\n",
       "│ rescaling_5 (\u001B[38;5;33mRescaling\u001B[0m)         │ (\u001B[38;5;45mNone\u001B[0m, \u001B[38;5;34m3072\u001B[0m)           │             \u001B[38;5;34m0\u001B[0m │\n",
       "├─────────────────────────────────┼────────────────────────┼───────────────┤\n",
       "│ dense_22 (\u001B[38;5;33mDense\u001B[0m)                │ (\u001B[38;5;45mNone\u001B[0m, \u001B[38;5;34m1024\u001B[0m)           │     \u001B[38;5;34m3,146,752\u001B[0m │\n",
       "├─────────────────────────────────┼────────────────────────┼───────────────┤\n",
       "│ dense_23 (\u001B[38;5;33mDense\u001B[0m)                │ (\u001B[38;5;45mNone\u001B[0m, \u001B[38;5;34m512\u001B[0m)            │       \u001B[38;5;34m524,800\u001B[0m │\n",
       "├─────────────────────────────────┼────────────────────────┼───────────────┤\n",
       "│ dense_24 (\u001B[38;5;33mDense\u001B[0m)                │ (\u001B[38;5;45mNone\u001B[0m, \u001B[38;5;34m256\u001B[0m)            │       \u001B[38;5;34m131,328\u001B[0m │\n",
       "├─────────────────────────────────┼────────────────────────┼───────────────┤\n",
       "│ dense_25 (\u001B[38;5;33mDense\u001B[0m)                │ (\u001B[38;5;45mNone\u001B[0m, \u001B[38;5;34m10\u001B[0m)             │         \u001B[38;5;34m2,570\u001B[0m │\n",
       "└─────────────────────────────────┴────────────────────────┴───────────────┘\n"
      ],
      "text/html": [
       "<pre style=\"white-space:pre;overflow-x:auto;line-height:normal;font-family:Menlo,'DejaVu Sans Mono',consolas,'Courier New',monospace\">┏━━━━━━━━━━━━━━━━━━━━━━━━━━━━━━━━━┳━━━━━━━━━━━━━━━━━━━━━━━━┳━━━━━━━━━━━━━━━┓\n",
       "┃<span style=\"font-weight: bold\"> Layer (type)                    </span>┃<span style=\"font-weight: bold\"> Output Shape           </span>┃<span style=\"font-weight: bold\">       Param # </span>┃\n",
       "┡━━━━━━━━━━━━━━━━━━━━━━━━━━━━━━━━━╇━━━━━━━━━━━━━━━━━━━━━━━━╇━━━━━━━━━━━━━━━┩\n",
       "│ flatten_5 (<span style=\"color: #0087ff; text-decoration-color: #0087ff\">Flatten</span>)             │ (<span style=\"color: #00d7ff; text-decoration-color: #00d7ff\">None</span>, <span style=\"color: #00af00; text-decoration-color: #00af00\">3072</span>)           │             <span style=\"color: #00af00; text-decoration-color: #00af00\">0</span> │\n",
       "├─────────────────────────────────┼────────────────────────┼───────────────┤\n",
       "│ rescaling_5 (<span style=\"color: #0087ff; text-decoration-color: #0087ff\">Rescaling</span>)         │ (<span style=\"color: #00d7ff; text-decoration-color: #00d7ff\">None</span>, <span style=\"color: #00af00; text-decoration-color: #00af00\">3072</span>)           │             <span style=\"color: #00af00; text-decoration-color: #00af00\">0</span> │\n",
       "├─────────────────────────────────┼────────────────────────┼───────────────┤\n",
       "│ dense_22 (<span style=\"color: #0087ff; text-decoration-color: #0087ff\">Dense</span>)                │ (<span style=\"color: #00d7ff; text-decoration-color: #00d7ff\">None</span>, <span style=\"color: #00af00; text-decoration-color: #00af00\">1024</span>)           │     <span style=\"color: #00af00; text-decoration-color: #00af00\">3,146,752</span> │\n",
       "├─────────────────────────────────┼────────────────────────┼───────────────┤\n",
       "│ dense_23 (<span style=\"color: #0087ff; text-decoration-color: #0087ff\">Dense</span>)                │ (<span style=\"color: #00d7ff; text-decoration-color: #00d7ff\">None</span>, <span style=\"color: #00af00; text-decoration-color: #00af00\">512</span>)            │       <span style=\"color: #00af00; text-decoration-color: #00af00\">524,800</span> │\n",
       "├─────────────────────────────────┼────────────────────────┼───────────────┤\n",
       "│ dense_24 (<span style=\"color: #0087ff; text-decoration-color: #0087ff\">Dense</span>)                │ (<span style=\"color: #00d7ff; text-decoration-color: #00d7ff\">None</span>, <span style=\"color: #00af00; text-decoration-color: #00af00\">256</span>)            │       <span style=\"color: #00af00; text-decoration-color: #00af00\">131,328</span> │\n",
       "├─────────────────────────────────┼────────────────────────┼───────────────┤\n",
       "│ dense_25 (<span style=\"color: #0087ff; text-decoration-color: #0087ff\">Dense</span>)                │ (<span style=\"color: #00d7ff; text-decoration-color: #00d7ff\">None</span>, <span style=\"color: #00af00; text-decoration-color: #00af00\">10</span>)             │         <span style=\"color: #00af00; text-decoration-color: #00af00\">2,570</span> │\n",
       "└─────────────────────────────────┴────────────────────────┴───────────────┘\n",
       "</pre>\n"
      ]
     },
     "metadata": {}
    },
    {
     "output_type": "display_data",
     "data": {
      "text/plain": [
       "\u001B[1m Total params: \u001B[0m\u001B[38;5;34m3,805,450\u001B[0m (14.52 MB)\n"
      ],
      "text/html": [
       "<pre style=\"white-space:pre;overflow-x:auto;line-height:normal;font-family:Menlo,'DejaVu Sans Mono',consolas,'Courier New',monospace\"><span style=\"font-weight: bold\"> Total params: </span><span style=\"color: #00af00; text-decoration-color: #00af00\">3,805,450</span> (14.52 MB)\n",
       "</pre>\n"
      ]
     },
     "metadata": {}
    },
    {
     "output_type": "display_data",
     "data": {
      "text/plain": [
       "\u001B[1m Trainable params: \u001B[0m\u001B[38;5;34m3,805,450\u001B[0m (14.52 MB)\n"
      ],
      "text/html": [
       "<pre style=\"white-space:pre;overflow-x:auto;line-height:normal;font-family:Menlo,'DejaVu Sans Mono',consolas,'Courier New',monospace\"><span style=\"font-weight: bold\"> Trainable params: </span><span style=\"color: #00af00; text-decoration-color: #00af00\">3,805,450</span> (14.52 MB)\n",
       "</pre>\n"
      ]
     },
     "metadata": {}
    },
    {
     "output_type": "display_data",
     "data": {
      "text/plain": [
       "\u001B[1m Non-trainable params: \u001B[0m\u001B[38;5;34m0\u001B[0m (0.00 B)\n"
      ],
      "text/html": [
       "<pre style=\"white-space:pre;overflow-x:auto;line-height:normal;font-family:Menlo,'DejaVu Sans Mono',consolas,'Courier New',monospace\"><span style=\"font-weight: bold\"> Non-trainable params: </span><span style=\"color: #00af00; text-decoration-color: #00af00\">0</span> (0.00 B)\n",
       "</pre>\n"
      ]
     },
     "metadata": {}
    }
   ]
  },
  {
   "metadata": {
    "id": "e5c8a225a7481a90"
   },
   "cell_type": "code",
   "outputs": [],
   "execution_count": 37,
   "source": [
    "# --- Compile ---\n",
    "model.compile(optimizer='adam',\n",
    "              loss='sparse_categorical_crossentropy',\n",
    "              metrics=['accuracy'])"
   ],
   "id": "e5c8a225a7481a90"
  },
  {
   "cell_type": "code",
   "source": [
    "# --- Early Stopping ---\n",
    "early_stop = tf.keras.callbacks.EarlyStopping(\n",
    "    monitor='val_loss', patience=5, restore_best_weights=True\n",
    ")"
   ],
   "metadata": {
    "id": "An57zh4fKZuY"
   },
   "id": "An57zh4fKZuY",
   "execution_count": 39,
   "outputs": []
  },
  {
   "metadata": {
    "colab": {
     "base_uri": "https://localhost:8080/"
    },
    "id": "df1a5d271e0dbefa",
    "outputId": "28f99787-df31-4384-b88d-5e8b7a8059b7"
   },
   "cell_type": "code",
   "outputs": [
    {
     "output_type": "stream",
     "name": "stdout",
     "text": [
      "Epoch 1/100\n",
      "667/667 - 3s - 4ms/step - accuracy: 0.9297 - loss: 0.1966 - val_accuracy: 0.5155 - val_loss: 3.0679\n",
      "Epoch 2/100\n",
      "667/667 - 5s - 7ms/step - accuracy: 0.9369 - loss: 0.1823 - val_accuracy: 0.5171 - val_loss: 3.1750\n",
      "Epoch 3/100\n",
      "667/667 - 3s - 5ms/step - accuracy: 0.9308 - loss: 0.1939 - val_accuracy: 0.5245 - val_loss: 3.1989\n",
      "Epoch 4/100\n",
      "667/667 - 2s - 4ms/step - accuracy: 0.9392 - loss: 0.1714 - val_accuracy: 0.5108 - val_loss: 3.2081\n",
      "Epoch 5/100\n",
      "667/667 - 2s - 4ms/step - accuracy: 0.9362 - loss: 0.1763 - val_accuracy: 0.5147 - val_loss: 3.2598\n",
      "Epoch 6/100\n",
      "667/667 - 3s - 4ms/step - accuracy: 0.9398 - loss: 0.1718 - val_accuracy: 0.5072 - val_loss: 3.3423\n",
      "Epoch 7/100\n",
      "667/667 - 5s - 8ms/step - accuracy: 0.9381 - loss: 0.1744 - val_accuracy: 0.5169 - val_loss: 3.2961\n",
      "Epoch 8/100\n",
      "667/667 - 3s - 4ms/step - accuracy: 0.9320 - loss: 0.1888 - val_accuracy: 0.5162 - val_loss: 3.3295\n",
      "Epoch 9/100\n",
      "667/667 - 3s - 4ms/step - accuracy: 0.9446 - loss: 0.1574 - val_accuracy: 0.5101 - val_loss: 3.3358\n",
      "Epoch 10/100\n",
      "667/667 - 6s - 8ms/step - accuracy: 0.9440 - loss: 0.1583 - val_accuracy: 0.5061 - val_loss: 3.3993\n",
      "Epoch 11/100\n",
      "667/667 - 4s - 7ms/step - accuracy: 0.9452 - loss: 0.1538 - val_accuracy: 0.5090 - val_loss: 3.5164\n",
      "Epoch 12/100\n",
      "667/667 - 2s - 4ms/step - accuracy: 0.9435 - loss: 0.1633 - val_accuracy: 0.5077 - val_loss: 3.5019\n",
      "Epoch 13/100\n",
      "667/667 - 2s - 4ms/step - accuracy: 0.9442 - loss: 0.1565 - val_accuracy: 0.5177 - val_loss: 3.5547\n",
      "Epoch 14/100\n",
      "667/667 - 3s - 4ms/step - accuracy: 0.9546 - loss: 0.1303 - val_accuracy: 0.5038 - val_loss: 3.8716\n",
      "Epoch 15/100\n",
      "667/667 - 3s - 4ms/step - accuracy: 0.9442 - loss: 0.1594 - val_accuracy: 0.5146 - val_loss: 3.6041\n",
      "Epoch 16/100\n",
      "667/667 - 3s - 4ms/step - accuracy: 0.9439 - loss: 0.1583 - val_accuracy: 0.5157 - val_loss: 3.6445\n",
      "Epoch 17/100\n",
      "667/667 - 3s - 4ms/step - accuracy: 0.9579 - loss: 0.1218 - val_accuracy: 0.5180 - val_loss: 3.7445\n",
      "Epoch 18/100\n",
      "667/667 - 3s - 4ms/step - accuracy: 0.9469 - loss: 0.1496 - val_accuracy: 0.5108 - val_loss: 3.7393\n",
      "Epoch 19/100\n",
      "667/667 - 5s - 7ms/step - accuracy: 0.9546 - loss: 0.1284 - val_accuracy: 0.5095 - val_loss: 3.9041\n",
      "Epoch 20/100\n",
      "667/667 - 3s - 4ms/step - accuracy: 0.9524 - loss: 0.1373 - val_accuracy: 0.5166 - val_loss: 3.7101\n",
      "Epoch 21/100\n",
      "667/667 - 6s - 8ms/step - accuracy: 0.9546 - loss: 0.1307 - val_accuracy: 0.5174 - val_loss: 3.8612\n",
      "Epoch 22/100\n",
      "667/667 - 2s - 4ms/step - accuracy: 0.9524 - loss: 0.1349 - val_accuracy: 0.5105 - val_loss: 3.7856\n",
      "Epoch 23/100\n",
      "667/667 - 3s - 4ms/step - accuracy: 0.9584 - loss: 0.1160 - val_accuracy: 0.5080 - val_loss: 3.8360\n",
      "Epoch 24/100\n",
      "667/667 - 3s - 4ms/step - accuracy: 0.9544 - loss: 0.1303 - val_accuracy: 0.5069 - val_loss: 4.1165\n",
      "Epoch 25/100\n",
      "667/667 - 5s - 8ms/step - accuracy: 0.9585 - loss: 0.1196 - val_accuracy: 0.5096 - val_loss: 4.0109\n",
      "Epoch 26/100\n",
      "667/667 - 2s - 4ms/step - accuracy: 0.9514 - loss: 0.1370 - val_accuracy: 0.5238 - val_loss: 3.8532\n",
      "Epoch 27/100\n",
      "667/667 - 3s - 4ms/step - accuracy: 0.9591 - loss: 0.1203 - val_accuracy: 0.4920 - val_loss: 3.9837\n",
      "Epoch 28/100\n",
      "667/667 - 2s - 4ms/step - accuracy: 0.9613 - loss: 0.1137 - val_accuracy: 0.5087 - val_loss: 4.1985\n",
      "Epoch 29/100\n",
      "667/667 - 3s - 5ms/step - accuracy: 0.9597 - loss: 0.1148 - val_accuracy: 0.5097 - val_loss: 4.0112\n",
      "Epoch 30/100\n",
      "667/667 - 3s - 4ms/step - accuracy: 0.9556 - loss: 0.1287 - val_accuracy: 0.5196 - val_loss: 4.1092\n",
      "Epoch 31/100\n",
      "667/667 - 3s - 4ms/step - accuracy: 0.9560 - loss: 0.1250 - val_accuracy: 0.5085 - val_loss: 3.9950\n",
      "Epoch 32/100\n",
      "667/667 - 3s - 4ms/step - accuracy: 0.9662 - loss: 0.1012 - val_accuracy: 0.5146 - val_loss: 4.1424\n",
      "Epoch 33/100\n",
      "667/667 - 3s - 4ms/step - accuracy: 0.9552 - loss: 0.1265 - val_accuracy: 0.5152 - val_loss: 4.1450\n",
      "Epoch 34/100\n",
      "667/667 - 2s - 4ms/step - accuracy: 0.9644 - loss: 0.1033 - val_accuracy: 0.5156 - val_loss: 4.2417\n",
      "Epoch 35/100\n",
      "667/667 - 2s - 4ms/step - accuracy: 0.9562 - loss: 0.1255 - val_accuracy: 0.5156 - val_loss: 4.0545\n",
      "Epoch 36/100\n",
      "667/667 - 3s - 4ms/step - accuracy: 0.9650 - loss: 0.1018 - val_accuracy: 0.5067 - val_loss: 4.1885\n",
      "Epoch 37/100\n",
      "667/667 - 2s - 4ms/step - accuracy: 0.9614 - loss: 0.1125 - val_accuracy: 0.5119 - val_loss: 4.3615\n",
      "Epoch 38/100\n",
      "667/667 - 3s - 5ms/step - accuracy: 0.9634 - loss: 0.1036 - val_accuracy: 0.5044 - val_loss: 4.3165\n",
      "Epoch 39/100\n",
      "667/667 - 4s - 7ms/step - accuracy: 0.9649 - loss: 0.1012 - val_accuracy: 0.5105 - val_loss: 4.3569\n",
      "Epoch 40/100\n",
      "667/667 - 3s - 4ms/step - accuracy: 0.9599 - loss: 0.1160 - val_accuracy: 0.5139 - val_loss: 4.3513\n",
      "Epoch 41/100\n",
      "667/667 - 3s - 4ms/step - accuracy: 0.9649 - loss: 0.0995 - val_accuracy: 0.5101 - val_loss: 4.3244\n",
      "Epoch 42/100\n",
      "667/667 - 3s - 4ms/step - accuracy: 0.9559 - loss: 0.1266 - val_accuracy: 0.5084 - val_loss: 4.3889\n",
      "Epoch 43/100\n",
      "667/667 - 3s - 4ms/step - accuracy: 0.9680 - loss: 0.0933 - val_accuracy: 0.5163 - val_loss: 4.3411\n",
      "Epoch 44/100\n",
      "667/667 - 5s - 7ms/step - accuracy: 0.9671 - loss: 0.0981 - val_accuracy: 0.5025 - val_loss: 4.2783\n",
      "Epoch 45/100\n",
      "667/667 - 3s - 4ms/step - accuracy: 0.9653 - loss: 0.0995 - val_accuracy: 0.5016 - val_loss: 4.4133\n",
      "Epoch 46/100\n",
      "667/667 - 5s - 7ms/step - accuracy: 0.9660 - loss: 0.0973 - val_accuracy: 0.5110 - val_loss: 4.4890\n",
      "Epoch 47/100\n",
      "667/667 - 5s - 8ms/step - accuracy: 0.9673 - loss: 0.0927 - val_accuracy: 0.5025 - val_loss: 4.4495\n",
      "Epoch 48/100\n",
      "667/667 - 3s - 4ms/step - accuracy: 0.9567 - loss: 0.1238 - val_accuracy: 0.5099 - val_loss: 4.4532\n",
      "Epoch 49/100\n",
      "667/667 - 2s - 4ms/step - accuracy: 0.9734 - loss: 0.0780 - val_accuracy: 0.5084 - val_loss: 4.5829\n",
      "Epoch 50/100\n",
      "667/667 - 2s - 4ms/step - accuracy: 0.9555 - loss: 0.1270 - val_accuracy: 0.5141 - val_loss: 4.5337\n",
      "Epoch 51/100\n",
      "667/667 - 2s - 4ms/step - accuracy: 0.9753 - loss: 0.0710 - val_accuracy: 0.5014 - val_loss: 4.5875\n",
      "Epoch 52/100\n",
      "667/667 - 3s - 4ms/step - accuracy: 0.9671 - loss: 0.0945 - val_accuracy: 0.5057 - val_loss: 4.4718\n",
      "Epoch 53/100\n",
      "667/667 - 2s - 4ms/step - accuracy: 0.9678 - loss: 0.0926 - val_accuracy: 0.5187 - val_loss: 4.5711\n",
      "Epoch 54/100\n",
      "667/667 - 3s - 4ms/step - accuracy: 0.9651 - loss: 0.1013 - val_accuracy: 0.5085 - val_loss: 4.6583\n",
      "Epoch 55/100\n",
      "667/667 - 5s - 8ms/step - accuracy: 0.9766 - loss: 0.0691 - val_accuracy: 0.5105 - val_loss: 4.8601\n",
      "Epoch 56/100\n",
      "667/667 - 5s - 7ms/step - accuracy: 0.9571 - loss: 0.1231 - val_accuracy: 0.5125 - val_loss: 4.5727\n",
      "Epoch 57/100\n",
      "667/667 - 3s - 4ms/step - accuracy: 0.9762 - loss: 0.0717 - val_accuracy: 0.5068 - val_loss: 4.7681\n",
      "Epoch 58/100\n",
      "667/667 - 2s - 4ms/step - accuracy: 0.9681 - loss: 0.0905 - val_accuracy: 0.5087 - val_loss: 4.6800\n",
      "Epoch 59/100\n",
      "667/667 - 3s - 4ms/step - accuracy: 0.9645 - loss: 0.1028 - val_accuracy: 0.5145 - val_loss: 4.7374\n",
      "Epoch 60/100\n",
      "667/667 - 2s - 4ms/step - accuracy: 0.9639 - loss: 0.1081 - val_accuracy: 0.5036 - val_loss: 4.6428\n",
      "Epoch 61/100\n",
      "667/667 - 2s - 4ms/step - accuracy: 0.9845 - loss: 0.0477 - val_accuracy: 0.5216 - val_loss: 4.7796\n",
      "Epoch 62/100\n",
      "667/667 - 2s - 4ms/step - accuracy: 0.9597 - loss: 0.1310 - val_accuracy: 0.5054 - val_loss: 4.5878\n",
      "Epoch 63/100\n",
      "667/667 - 2s - 4ms/step - accuracy: 0.9779 - loss: 0.0638 - val_accuracy: 0.5160 - val_loss: 4.7052\n",
      "Epoch 64/100\n",
      "667/667 - 3s - 4ms/step - accuracy: 0.9621 - loss: 0.1092 - val_accuracy: 0.5089 - val_loss: 4.6539\n",
      "Epoch 65/100\n",
      "667/667 - 3s - 4ms/step - accuracy: 0.9765 - loss: 0.0685 - val_accuracy: 0.5110 - val_loss: 4.8468\n",
      "Epoch 66/100\n",
      "667/667 - 5s - 8ms/step - accuracy: 0.9687 - loss: 0.0952 - val_accuracy: 0.5034 - val_loss: 4.6911\n",
      "Epoch 67/100\n",
      "667/667 - 5s - 8ms/step - accuracy: 0.9669 - loss: 0.0911 - val_accuracy: 0.5045 - val_loss: 4.9736\n",
      "Epoch 68/100\n",
      "667/667 - 5s - 7ms/step - accuracy: 0.9733 - loss: 0.0764 - val_accuracy: 0.5129 - val_loss: 4.9610\n",
      "Epoch 69/100\n",
      "667/667 - 2s - 4ms/step - accuracy: 0.9711 - loss: 0.0836 - val_accuracy: 0.5125 - val_loss: 4.9716\n",
      "Epoch 70/100\n",
      "667/667 - 3s - 4ms/step - accuracy: 0.9724 - loss: 0.0798 - val_accuracy: 0.5006 - val_loss: 4.7782\n",
      "Epoch 71/100\n",
      "667/667 - 2s - 4ms/step - accuracy: 0.9610 - loss: 0.1111 - val_accuracy: 0.5084 - val_loss: 4.8516\n",
      "Epoch 72/100\n",
      "667/667 - 2s - 4ms/step - accuracy: 0.9803 - loss: 0.0602 - val_accuracy: 0.5060 - val_loss: 4.9890\n",
      "Epoch 73/100\n",
      "667/667 - 3s - 4ms/step - accuracy: 0.9671 - loss: 0.0957 - val_accuracy: 0.5102 - val_loss: 4.9555\n",
      "Epoch 74/100\n",
      "667/667 - 5s - 8ms/step - accuracy: 0.9800 - loss: 0.0595 - val_accuracy: 0.5094 - val_loss: 5.1980\n",
      "Epoch 75/100\n",
      "667/667 - 5s - 8ms/step - accuracy: 0.9718 - loss: 0.0851 - val_accuracy: 0.4975 - val_loss: 5.0463\n",
      "Epoch 76/100\n",
      "667/667 - 6s - 8ms/step - accuracy: 0.9670 - loss: 0.0959 - val_accuracy: 0.4987 - val_loss: 4.8682\n",
      "Epoch 77/100\n",
      "667/667 - 5s - 7ms/step - accuracy: 0.9803 - loss: 0.0576 - val_accuracy: 0.5127 - val_loss: 5.2805\n",
      "Epoch 78/100\n",
      "667/667 - 5s - 7ms/step - accuracy: 0.9671 - loss: 0.0969 - val_accuracy: 0.5090 - val_loss: 5.1534\n",
      "Epoch 79/100\n",
      "667/667 - 3s - 5ms/step - accuracy: 0.9732 - loss: 0.0782 - val_accuracy: 0.5047 - val_loss: 5.1665\n",
      "Epoch 80/100\n",
      "667/667 - 2s - 4ms/step - accuracy: 0.9719 - loss: 0.0802 - val_accuracy: 0.5158 - val_loss: 5.0802\n",
      "Epoch 81/100\n",
      "667/667 - 3s - 4ms/step - accuracy: 0.9776 - loss: 0.0628 - val_accuracy: 0.5047 - val_loss: 5.0769\n",
      "Epoch 82/100\n",
      "667/667 - 2s - 4ms/step - accuracy: 0.9627 - loss: 0.1093 - val_accuracy: 0.5112 - val_loss: 5.0088\n",
      "Epoch 83/100\n",
      "667/667 - 3s - 5ms/step - accuracy: 0.9911 - loss: 0.0285 - val_accuracy: 0.5101 - val_loss: 5.2976\n",
      "Epoch 84/100\n",
      "667/667 - 2s - 4ms/step - accuracy: 0.9628 - loss: 0.1105 - val_accuracy: 0.5100 - val_loss: 5.1105\n",
      "Epoch 85/100\n",
      "667/667 - 3s - 4ms/step - accuracy: 0.9767 - loss: 0.0668 - val_accuracy: 0.4990 - val_loss: 5.1236\n",
      "Epoch 86/100\n",
      "667/667 - 2s - 4ms/step - accuracy: 0.9734 - loss: 0.0772 - val_accuracy: 0.5129 - val_loss: 5.2076\n",
      "Epoch 87/100\n",
      "667/667 - 3s - 4ms/step - accuracy: 0.9691 - loss: 0.0930 - val_accuracy: 0.5040 - val_loss: 5.2932\n",
      "Epoch 88/100\n",
      "667/667 - 3s - 4ms/step - accuracy: 0.9714 - loss: 0.0838 - val_accuracy: 0.5168 - val_loss: 5.2413\n",
      "Epoch 89/100\n",
      "667/667 - 2s - 4ms/step - accuracy: 0.9836 - loss: 0.0492 - val_accuracy: 0.5012 - val_loss: 5.3308\n",
      "Epoch 90/100\n",
      "667/667 - 2s - 4ms/step - accuracy: 0.9650 - loss: 0.1030 - val_accuracy: 0.5114 - val_loss: 5.2018\n",
      "Epoch 91/100\n",
      "667/667 - 2s - 4ms/step - accuracy: 0.9793 - loss: 0.0608 - val_accuracy: 0.5117 - val_loss: 5.3713\n",
      "Epoch 92/100\n",
      "667/667 - 3s - 4ms/step - accuracy: 0.9689 - loss: 0.0907 - val_accuracy: 0.5087 - val_loss: 5.2598\n",
      "Epoch 93/100\n",
      "667/667 - 2s - 4ms/step - accuracy: 0.9813 - loss: 0.0597 - val_accuracy: 0.4840 - val_loss: 5.3961\n",
      "Epoch 94/100\n",
      "667/667 - 3s - 4ms/step - accuracy: 0.9764 - loss: 0.0733 - val_accuracy: 0.5176 - val_loss: 5.2125\n",
      "Epoch 95/100\n",
      "667/667 - 5s - 8ms/step - accuracy: 0.9742 - loss: 0.0813 - val_accuracy: 0.5059 - val_loss: 5.2031\n",
      "Epoch 96/100\n",
      "667/667 - 3s - 5ms/step - accuracy: 0.9750 - loss: 0.0748 - val_accuracy: 0.5090 - val_loss: 5.2330\n",
      "Epoch 97/100\n",
      "667/667 - 2s - 4ms/step - accuracy: 0.9771 - loss: 0.0647 - val_accuracy: 0.5141 - val_loss: 5.3256\n",
      "Epoch 98/100\n",
      "667/667 - 3s - 4ms/step - accuracy: 0.9763 - loss: 0.0676 - val_accuracy: 0.5018 - val_loss: 5.4896\n",
      "Epoch 99/100\n",
      "667/667 - 5s - 8ms/step - accuracy: 0.9668 - loss: 0.0988 - val_accuracy: 0.5171 - val_loss: 5.2247\n",
      "Epoch 100/100\n",
      "667/667 - 2s - 4ms/step - accuracy: 0.9870 - loss: 0.0385 - val_accuracy: 0.5071 - val_loss: 5.2481\n"
     ]
    }
   ],
   "execution_count": 40,
   "source": [
    "# --- Train ---\n",
    "history = model.fit(x_train, y_train,\n",
    "                    validation_split=0.2,\n",
    "                    epochs=100,\n",
    "                    batch_size=60,\n",
    "                    verbose=2)\n"
   ],
   "id": "df1a5d271e0dbefa"
  },
  {
   "cell_type": "code",
   "source": [
    "# --- Evaluate ---\n",
    "test_loss, test_acc = model.evaluate(x_test, y_test, verbose=0)\n",
    "print(f\"Test Accuracy: {test_acc:.4f}\")\n"
   ],
   "metadata": {
    "colab": {
     "base_uri": "https://localhost:8080/"
    },
    "id": "V4MJlL-qHPSj",
    "outputId": "ab33df37-5c45-4e91-fa34-c0380a5ac444"
   },
   "id": "V4MJlL-qHPSj",
   "execution_count": 41,
   "outputs": [
    {
     "output_type": "stream",
     "name": "stdout",
     "text": [
      "Test Accuracy: 0.5093\n"
     ]
    }
   ]
  },
  {
   "cell_type": "code",
   "source": [
    "# --- Best Accuracy ---\n",
    "best_val_acc = max(history.history['val_accuracy'])\n",
    "best_train_acc = max(history.history['accuracy'])\n",
    "print(f\"Best Train Accuracy: {best_train_acc:.4f}\")\n",
    "print(f\"Best Validation Accuracy: {best_val_acc:.4f}\")"
   ],
   "metadata": {
    "colab": {
     "base_uri": "https://localhost:8080/"
    },
    "id": "j1l8WwrPHZMN",
    "outputId": "fabbc68b-95b4-4447-88bf-594d985f94da"
   },
   "id": "j1l8WwrPHZMN",
   "execution_count": 42,
   "outputs": [
    {
     "output_type": "stream",
     "name": "stdout",
     "text": [
      "Best Train Accuracy: 0.9911\n",
      "Best Validation Accuracy: 0.5245\n"
     ]
    }
   ]
  },
  {
   "cell_type": "code",
   "source": [
    "import numpy as np\n",
    "import matplotlib.pyplot as plt\n",
    "\n",
    "# --- Evaluate on Test Set ---\n",
    "test_loss, test_acc = model.evaluate(x_test, y_test, verbose=0)\n",
    "print(f\"Test Accuracy: {test_acc:.4f}\")\n",
    "print(f\"Test Loss: {test_loss:.4f}\")\n",
    "\n",
    "# --- Predict on Test Set ---\n",
    "predictions = model.predict(x_test)\n",
    "predicted_classes = np.argmax(predictions, axis=1)\n",
    "\n",
    "# --- Show 5 random test images with predicted labels ---\n",
    "class_names = ['airplane', 'automobile', 'bird', 'cat', 'deer',\n",
    "               'dog', 'frog', 'horse', 'ship', 'truck']\n",
    "\n",
    "plt.figure(figsize=(10, 5))\n",
    "for i, idx in enumerate(np.random.choice(len(x_test), 5, replace=False)):\n",
    "    plt.subplot(1, 5, i + 1)\n",
    "    plt.imshow(x_test[idx])\n",
    "    plt.title(f\"Pred: {class_names[predicted_classes[idx]]}\\nTrue: {class_names[y_test[idx]]}\")\n",
    "    plt.axis('off')\n",
    "plt.show()"
   ],
   "metadata": {
    "colab": {
     "base_uri": "https://localhost:8080/",
     "height": 265
    },
    "id": "B7mdWztEIClI",
    "outputId": "21d702cb-91b2-46d6-e2ae-1a59d63f5aed"
   },
   "id": "B7mdWztEIClI",
   "execution_count": 43,
   "outputs": [
    {
     "output_type": "stream",
     "name": "stdout",
     "text": [
      "Test Accuracy: 0.5093\n",
      "Test Loss: 5.1567\n",
      "\u001B[1m313/313\u001B[0m \u001B[32m━━━━━━━━━━━━━━━━━━━━\u001B[0m\u001B[37m\u001B[0m \u001B[1m1s\u001B[0m 2ms/step\n"
     ]
    },
    {
     "output_type": "display_data",
     "data": {
      "text/plain": [
       "<Figure size 1000x500 with 5 Axes>"
      ],
      "image/png": "[encoded data removed]"
     },
     "metadata": {}
    }
   ]
  }
 ],
 "metadata": {
  "kernelspec": {
   "display_name": "Python 3",
   "name": "python3"
  },
  "language_info": {
   "codemirror_mode": {
    "name": "ipython",
    "version": 2
   },
   "file_extension": ".py",
   "mimetype": "text/x-python",
   "name": "python",
   "nbconvert_exporter": "python",
   "pygments_lexer": "ipython2",
   "version": "2.7.6"
  },
  "colab": {
   "provenance": [],
   "gpuType": "T4"
  },
  "accelerator": "GPU"
 },
 "nbformat": 4,
 "nbformat_minor": 5
}
